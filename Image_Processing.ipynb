{
 "cells": [
  {
   "cell_type": "code",
   "execution_count": 3,
   "metadata": {},
   "outputs": [],
   "source": [
    "#Using the GPU for this computation\n",
    "\n",
    "from tensorflow.compat.v1 import ConfigProto\n",
    "from tensorflow.compat.v1 import InteractiveSession\n",
    "\n",
    "config = ConfigProto()\n",
    "config.gpu_options.allow_growth = True\n",
    "session = InteractiveSession(config=config)"
   ]
  },
  {
   "cell_type": "code",
   "execution_count": 4,
   "metadata": {},
   "outputs": [],
   "source": [
    "#Imports\n",
    "import numpy as np\n",
    "import matplotlib.pyplot as plt\n",
    "from tensorflow.keras.datasets import cifar10\n",
    "from tensorflow.keras.models import Model\n",
    "from tensorflow.keras.layers import Input, Dense, Flatten, Reshape\n",
    "from sklearn.model_selection import train_test_split"
   ]
  },
  {
   "cell_type": "code",
   "execution_count": 5,
   "metadata": {},
   "outputs": [],
   "source": [
    "#Ensuring that the train, test split have the correct shape\n",
    "(x_train, y_train), (x_test, y_test) = cifar10.load_data()"
   ]
  },
  {
   "cell_type": "code",
   "execution_count": 6,
   "metadata": {},
   "outputs": [
    {
     "data": {
      "text/plain": [
       "array([[[ 59,  62,  63],\n",
       "        [ 43,  46,  45],\n",
       "        [ 50,  48,  43],\n",
       "        ...,\n",
       "        [158, 132, 108],\n",
       "        [152, 125, 102],\n",
       "        [148, 124, 103]],\n",
       "\n",
       "       [[ 16,  20,  20],\n",
       "        [  0,   0,   0],\n",
       "        [ 18,   8,   0],\n",
       "        ...,\n",
       "        [123,  88,  55],\n",
       "        [119,  83,  50],\n",
       "        [122,  87,  57]],\n",
       "\n",
       "       [[ 25,  24,  21],\n",
       "        [ 16,   7,   0],\n",
       "        [ 49,  27,   8],\n",
       "        ...,\n",
       "        [118,  84,  50],\n",
       "        [120,  84,  50],\n",
       "        [109,  73,  42]],\n",
       "\n",
       "       ...,\n",
       "\n",
       "       [[208, 170,  96],\n",
       "        [201, 153,  34],\n",
       "        [198, 161,  26],\n",
       "        ...,\n",
       "        [160, 133,  70],\n",
       "        [ 56,  31,   7],\n",
       "        [ 53,  34,  20]],\n",
       "\n",
       "       [[180, 139,  96],\n",
       "        [173, 123,  42],\n",
       "        [186, 144,  30],\n",
       "        ...,\n",
       "        [184, 148,  94],\n",
       "        [ 97,  62,  34],\n",
       "        [ 83,  53,  34]],\n",
       "\n",
       "       [[177, 144, 116],\n",
       "        [168, 129,  94],\n",
       "        [179, 142,  87],\n",
       "        ...,\n",
       "        [216, 184, 140],\n",
       "        [151, 118,  84],\n",
       "        [123,  92,  72]]], dtype=uint8)"
      ]
     },
     "execution_count": 6,
     "metadata": {},
     "output_type": "execute_result"
    }
   ],
   "source": [
    "x_train[0]"
   ]
  },
  {
   "cell_type": "code",
   "execution_count": 7,
   "metadata": {},
   "outputs": [
    {
     "data": {
      "text/plain": [
       "(50000, 32, 32, 3)"
      ]
     },
     "execution_count": 7,
     "metadata": {},
     "output_type": "execute_result"
    }
   ],
   "source": [
    "x_train.shape"
   ]
  },
  {
   "cell_type": "code",
   "execution_count": 8,
   "metadata": {},
   "outputs": [
    {
     "data": {
      "text/plain": [
       "(10000, 32, 32, 3)"
      ]
     },
     "execution_count": 8,
     "metadata": {},
     "output_type": "execute_result"
    }
   ],
   "source": [
    "x_test.shape"
   ]
  },
  {
   "cell_type": "code",
   "execution_count": 13,
   "metadata": {},
   "outputs": [
    {
     "name": "stdout",
     "output_type": "stream",
     "text": [
      "Text(0.5, 1.0, '(Label: [6])')\n",
      "Text(0.5, 1.0, '(Label: [3])')\n"
     ]
    },
    {
     "data": {
      "image/png": "[encoded data removed]",
      "text/plain": [
       "<Figure size 216x216 with 2 Axes>"
      ]
     },
     "metadata": {
      "needs_background": "light"
     },
     "output_type": "display_data"
    }
   ],
   "source": [
    "plt.figure(figsize=[3,3])\n",
    "\n",
    "# Display the first image in training data\n",
    "plt.subplot(121)\n",
    "curr_img = np.reshape(x_train[0], (32,32,3))\n",
    "plt.imshow(curr_img)\n",
    "print(plt.title(\"(Label: \" + str([y_train[0][0]]) + \")\"))\n",
    "\n",
    "# Display the first image in testing data\n",
    "plt.subplot(122)\n",
    "curr_img = np.reshape(x_test[0],(32,32,3))\n",
    "plt.imshow(curr_img)\n",
    "print(plt.title(\"(Label: \" + str([y_test[0][0]]) + \")\"))"
   ]
  },
  {
   "cell_type": "code",
   "execution_count": 16,
   "metadata": {},
   "outputs": [],
   "source": [
    "# Normalize the images\n",
    "mean = 0.5\n",
    "std = 0.5\n",
    "\n",
    "def normalize_images(images):\n",
    "    images = images.astype(np.float32) / 255.0  # Scale to [0, 1]\n",
    "    return (images - mean) / std  # Normalize\n",
    "\n",
    "x_train_normalized = normalize_images(x_train)\n",
    "x_test_normalized = normalize_images(x_test)\n",
    "\n",
    "# Flatten the images\n",
    "x_train_images = x_train_normalized.reshape((len(x_train_normalized), 32 * 32 * 3))\n",
    "x_test_images = x_test_normalized.reshape((len(x_test_normalized), 32 * 32 * 3))"
   ]
  },
  {
   "cell_type": "code",
   "execution_count": 18,
   "metadata": {},
   "outputs": [],
   "source": [
    "label_image = {\n",
    " 0: 'airplane',\n",
    " 1: 'automobile',\n",
    " 2: 'bird',\n",
    " 3: 'cat',\n",
    " 4: 'deer',\n",
    " 5: 'dog',\n",
    " 6: 'frog',\n",
    " 7: 'horse',\n",
    " 8: 'ship',\n",
    " 9: 'truck',\n",
    "}"
   ]
  },
  {
   "cell_type": "code",
   "execution_count": 19,
   "metadata": {},
   "outputs": [
    {
     "name": "stdout",
     "output_type": "stream",
     "text": [
      "Accuracy for Nearest Neighbour 1: 0.3539\n",
      "Accuracy for Nearest Neighbour 2: 0.3116\n",
      "Accuracy for Nearest Neighbour 3: 0.3303\n",
      "Accuracy for Nearest Neighbour 4: 0.3398\n",
      "Accuracy for Nearest Neighbour 5: 0.3398\n",
      "Average Accuracy over 5 iterations: 0.33507999999999993\n"
     ]
    }
   ],
   "source": [
    "#Iterations of KNN\n",
    "\n",
    "from sklearn.neighbors import KNeighborsClassifier\n",
    "from sklearn.metrics import accuracy_score\n",
    "\n",
    "n_iterations = 5\n",
    "accuracies = []\n",
    "\n",
    "for i in range(n_iterations):\n",
    "    knn = KNeighborsClassifier(n_neighbors = i + 1)\n",
    "    knn.fit(x_train_images, y_train.ravel())\n",
    "    \n",
    "    y_pred = knn.predict(x_test_images)\n",
    "    \n",
    "    accuracy = accuracy_score(y_test, y_pred)\n",
    "    accuracies.append(accuracy) #adds the value to the list!\n",
    "    print(f\"Accuracy for Nearest Neighbour {i + 1}:\", accuracy)\n",
    "\n",
    "average_accuracy = np.mean(accuracies)\n",
    "print(\"Average Accuracy over\", n_iterations, \"iterations:\", average_accuracy)"
   ]
  },
  {
   "cell_type": "code",
   "execution_count": null,
   "metadata": {},
   "outputs": [
    {
     "name": "stdout",
     "output_type": "stream",
     "text": [
      "Accuracy for Nearest Neighbour 1: 0.3858\n",
      "Accuracy for Nearest Neighbour 2: 0.3402\n",
      "Accuracy for Nearest Neighbour 3: 0.3659\n",
      "Accuracy for Nearest Neighbour 4: 0.376\n",
      "Accuracy for Nearest Neighbour 5: 0.3808\n",
      "Average Accuracy over 5 iterations: 0.36973999999999996\n"
     ]
    }
   ],
   "source": [
    "#Using PCA\n",
    "from sklearn.decomposition import PCA\n",
    "pca = PCA(0.8) #to obtain 80% of variance\n",
    "pca.fit(x_train_images)\n",
    "PCA(copy=True, iterated_power='auto', n_components=0.8, random_state=None,\n",
    "  svd_solver='auto', tol=0.0, whiten=False)\n",
    "x_train_img_pca = pca.transform(x_train_images)\n",
    "x_test_img_pca = pca.transform(x_test_images)\n",
    "\n",
    "n_iterations = 5\n",
    "accuracies = []\n",
    "\n",
    "for i in range(n_iterations):\n",
    "    knn = KNeighborsClassifier(n_neighbors = i + 1)\n",
    "    knn.fit(x_train_img_pca, y_train.ravel())\n",
    "    \n",
    "    y_pred = knn.predict(x_test_img_pca)\n",
    "    \n",
    "    accuracy = accuracy_score(y_test, y_pred)\n",
    "    accuracies.append(accuracy) #adds the value to the list!\n",
    "    print(f\"Accuracy for Nearest Neighbour {i + 1}:\", accuracy)\n",
    "\n",
    "average_accuracy = np.mean(accuracies)\n",
    "print(\"Average Accuracy over\", n_iterations, \"iterations:\", average_accuracy)"
   ]
  },
  {
   "cell_type": "code",
   "execution_count": 9,
   "metadata": {},
   "outputs": [
    {
     "name": "stdout",
     "output_type": "stream",
     "text": [
      "Accuracy for Nearest Neighbour 1: 0.3572\n",
      "Accuracy for Nearest Neighbour 2: 0.315\n",
      "Accuracy for Nearest Neighbour 3: 0.3334\n",
      "Accuracy for Nearest Neighbour 4: 0.3424\n",
      "Accuracy for Nearest Neighbour 5: 0.3447\n",
      "Average Accuracy over 5 iterations: 0.33854\n"
     ]
    }
   ],
   "source": [
    "#t-SNE is told to be more accurate for CIFAR-10\n",
    "from sklearn.manifold import TSNE\n",
    "\n",
    "tsne = TSNE(n_components=2, random_state=42, perplexity=30, n_iter=1000)\n",
    "x_train_img_tsne = pca.fit_transform(x_train_images)\n",
    "x_test_img_tsne = pca.transform(x_test_images)\n",
    "\n",
    "n_iterations = 5\n",
    "accuracies = []\n",
    "\n",
    "for i in range(n_iterations):\n",
    "    knn = KNeighborsClassifier(n_neighbors = i + 1)\n",
    "    knn.fit(x_train_img_tsne, y_train.ravel())\n",
    "    \n",
    "    y_pred = knn.predict(x_test_img_tsne)\n",
    "    \n",
    "    accuracy = accuracy_score(y_test, y_pred)\n",
    "    accuracies.append(accuracy) #adds the value to the list!\n",
    "    print(f\"Accuracy for Nearest Neighbour {i + 1}:\", accuracy)\n",
    "\n",
    "average_accuracy = np.mean(accuracies)\n",
    "print(\"Average Accuracy over\", n_iterations, \"iterations:\", average_accuracy)\n"
   ]
  },
  {
   "cell_type": "code",
   "execution_count": 12,
   "metadata": {},
   "outputs": [
    {
     "name": "stdout",
     "output_type": "stream",
     "text": [
      "Accuracy for Nearest Neighbour 1: 0.3572\n",
      "Accuracy for Nearest Neighbour 2: 0.315\n",
      "Accuracy for Nearest Neighbour 3: 0.3334\n",
      "Accuracy for Nearest Neighbour 4: 0.3424\n",
      "Accuracy for Nearest Neighbour 5: 0.3447\n",
      "Average Accuracy over 5 iterations: 0.33854\n"
     ]
    }
   ],
   "source": [
    "#Using LDA\n",
    "from sklearn.discriminant_analysis import LinearDiscriminantAnalysis\n",
    "\n",
    "lda = LinearDiscriminantAnalysis(n_components=2)\n",
    "X_train_img_lda = lda.fit_transform(x_train_images, y_train.ravel())\n",
    "X_test_img_lda = lda.transform(x_test_images)\n",
    "\n",
    "n_iterations = 5\n",
    "accuracies = []\n",
    "\n",
    "for i in range(n_iterations):\n",
    "    knn = KNeighborsClassifier(n_neighbors = i + 1)\n",
    "    knn.fit(x_train_img_tsne, y_train.ravel())\n",
    "    \n",
    "    y_pred = knn.predict(x_test_img_tsne)\n",
    "    \n",
    "    accuracy = accuracy_score(y_test, y_pred)\n",
    "    accuracies.append(accuracy) #adds the value to the list!\n",
    "    print(f\"Accuracy for Nearest Neighbour {i + 1}:\", accuracy)\n",
    "\n",
    "average_accuracy = np.mean(accuracies)\n",
    "print(\"Average Accuracy over\", n_iterations, \"iterations:\", average_accuracy)"
   ]
  },
  {
   "cell_type": "code",
   "execution_count": 13,
   "metadata": {},
   "outputs": [
    {
     "name": "stdout",
     "output_type": "stream",
     "text": [
      "Test Accuracy: 0.4004\n"
     ]
    }
   ],
   "source": []
  },
  {
   "cell_type": "code",
   "execution_count": 11,
   "metadata": {},
   "outputs": [],
   "source": [
    "#Using Autoencoder"
   ]
  }
 ],
 "metadata": {
  "kernelspec": {
   "display_name": "base",
   "language": "python",
   "name": "python3"
  },
  "language_info": {
   "codemirror_mode": {
    "name": "ipython",
    "version": 3
   },
   "file_extension": ".py",
   "mimetype": "text/x-python",
   "name": "python",
   "nbconvert_exporter": "python",
   "pygments_lexer": "ipython3",
   "version": "3.9.12"
  }
 },
 "nbformat": 4,
 "nbformat_minor": 2
}
